{
  "nbformat": 4,
  "nbformat_minor": 0,
  "metadata": {
    "colab": {
      "name": "Untitled1.ipynb",
      "provenance": [],
      "include_colab_link": true
    },
    "kernelspec": {
      "name": "python3",
      "display_name": "Python 3"
    }
  },
  "cells": [
    {
      "cell_type": "markdown",
      "metadata": {
        "id": "view-in-github",
        "colab_type": "text"
      },
      "source": [
        "<a href=\"https://colab.research.google.com/github/ItsTheGraveWalker/Growing-up-Python/blob/master/pythonbasics_worksheet.ipynb\" target=\"_parent\"><img src=\"https://colab.research.google.com/assets/colab-badge.svg\" alt=\"Open In Colab\"/></a>"
      ]
    },
    {
      "cell_type": "markdown",
      "metadata": {
        "id": "vnLLIpCkRlaE",
        "colab_type": "text"
      },
      "source": [
        "User Input"
      ]
    },
    {
      "cell_type": "code",
      "metadata": {
        "id": "ArtJssG4QqUi",
        "colab_type": "code",
        "outputId": "98483b10-85a4-4900-e1a5-1ff1cea70c73",
        "colab": {
          "base_uri": "https://localhost:8080/",
          "height": 68
        }
      },
      "source": [
        "name = input(\"What is your name \")\n",
        "print(\"Hello \" + name + \", new python student.\")\n",
        "\n",
        "character_name = \"Kyle\"\n",
        "\n",
        "print(\"Hello \" + character_name + \" , new student to python using variable.\")"
      ],
      "execution_count": 0,
      "outputs": [
        {
          "output_type": "stream",
          "text": [
            "What is your name Mike\n",
            "Hello Mike, new python student.\n",
            "Hello Kyle , new student to python using variable.\n"
          ],
          "name": "stdout"
        }
      ]
    },
    {
      "cell_type": "markdown",
      "metadata": {
        "id": "Jo9IzA1NR3ta",
        "colab_type": "text"
      },
      "source": [
        "Variables"
      ]
    },
    {
      "cell_type": "code",
      "metadata": {
        "id": "C6yMRgTfR7N1",
        "colab_type": "code",
        "colab": {}
      },
      "source": [
        "text_variable = \"String variable\"\n",
        "int_variable = 1234\n",
        "list_variable = [\"house\",\"car\",\"dog\"]"
      ],
      "execution_count": 0,
      "outputs": []
    },
    {
      "cell_type": "code",
      "metadata": {
        "id": "CdYTGB72UXij",
        "colab_type": "code",
        "outputId": "633efc80-24df-4edc-db2a-d949eef960bc",
        "colab": {
          "base_uri": "https://localhost:8080/",
          "height": 34
        }
      },
      "source": [
        "list_variable"
      ],
      "execution_count": 0,
      "outputs": [
        {
          "output_type": "execute_result",
          "data": {
            "text/plain": [
              "['house', 'car', 'dog']"
            ]
          },
          "metadata": {
            "tags": []
          },
          "execution_count": 9
        }
      ]
    },
    {
      "cell_type": "code",
      "metadata": {
        "id": "Cj7lyWG7UaiI",
        "colab_type": "code",
        "colab": {}
      },
      "source": [
        "secondlist_variable = [\"thing 1\",\"thing 2\",\"thing 3\"]"
      ],
      "execution_count": 0,
      "outputs": []
    },
    {
      "cell_type": "code",
      "metadata": {
        "id": "p5C5tsETU6y-",
        "colab_type": "code",
        "outputId": "45a4c232-34e5-4170-c61a-c4c005f1cb04",
        "colab": {
          "base_uri": "https://localhost:8080/",
          "height": 34
        }
      },
      "source": [
        "type(text_variable)"
      ],
      "execution_count": 0,
      "outputs": [
        {
          "output_type": "execute_result",
          "data": {
            "text/plain": [
              "str"
            ]
          },
          "metadata": {
            "tags": []
          },
          "execution_count": 18
        }
      ]
    },
    {
      "cell_type": "code",
      "metadata": {
        "id": "xmCvoRWMFatY",
        "colab_type": "code",
        "outputId": "f8176c18-2282-4b25-9c43-89c6fa1bad5c",
        "colab": {
          "base_uri": "https://localhost:8080/",
          "height": 255
        }
      },
      "source": [
        "def unscrew(spread):\n",
        "  print('Unscrewing {}.'.format(spread))\n",
        "\n",
        "def getplate():\n",
        "  print(\"Placing plate on table.\")\n",
        "\n",
        "def openBread():\n",
        "  print('Opening Bread')\n",
        "\n",
        "def getslice():\n",
        "  print('Heres a slice.')\n",
        "  return 'Slice'\n",
        "\n",
        "def getSpread(spread):\n",
        "  print('Yum {}'.format(spread))\n",
        "  return spread\n",
        "\n",
        "def spreading(slice,knife):\n",
        "  print(\"Putting {0} on the {1}.\".format(knife,slice))\n",
        "  return knife\n",
        "\n",
        "def combine(halves):\n",
        "  print('Putting {} half on {} half!'.format(halves[0],halves[1]))\n",
        "\n",
        "def placeOnPlate():\n",
        "  print(\"Putting it on the Plate\")\n",
        "\n",
        "def makePBAndJ(): # def is used to make a function\n",
        "\n",
        "    spreads = ['Peanut Butter','Jelly'] # Create a list of spreads\n",
        "\n",
        "    for spread in spreads: # Go through the list\n",
        "        unscrew(spread) # Call funtion unscrew on spread\n",
        "    \n",
        "    getplate() # Call get the plate\n",
        "\n",
        "    halves = [] # Create an empty list\n",
        "\n",
        "    openBread()\n",
        "\n",
        "    for spread in spreads: # Go through the spreads\n",
        "\n",
        "        slice = getslice() # Get a slice of bread\n",
        "\n",
        "        knife = getSpread(spread) # Get spread on knife\n",
        "\n",
        "        halves.append(spreading(slice,knife)) # add prepared half to our half list\n",
        "\n",
        "    combine(halves) # Combine the halves together\n",
        "    placeOnPlate()\n",
        "\n",
        "def sillyMan():\n",
        "\n",
        "  makePBAndJ()\n",
        "\n",
        "  print('\\n...Now how do I eat it?')\n",
        "\n",
        "sillyMan()"
      ],
      "execution_count": 0,
      "outputs": [
        {
          "output_type": "stream",
          "text": [
            "Unscrewing Peanut Butter.\n",
            "Unscrewing Jelly.\n",
            "Placing plate on table.\n",
            "Opening Bread\n",
            "Heres a slice.\n",
            "Yum Peanut Butter\n",
            "Putting Peanut Butter on the Slice.\n",
            "Heres a slice.\n",
            "Yum Jelly\n",
            "Putting Jelly on the Slice.\n",
            "Putting Peanut Butter half on Jelly half!\n",
            "Putting it on the Plate\n",
            "\n",
            "...Now how do I eat it?\n"
          ],
          "name": "stdout"
        }
      ]
    },
    {
      "cell_type": "markdown",
      "metadata": {
        "id": "ZPD4zdpUOq-m",
        "colab_type": "text"
      },
      "source": [
        "# User Input"
      ]
    },
    {
      "cell_type": "code",
      "metadata": {
        "id": "wD0fywvAGFvy",
        "colab_type": "code",
        "outputId": "201dae71-2bde-4598-bf19-05ae1aa3df2e",
        "colab": {
          "base_uri": "https://localhost:8080/",
          "height": 51
        }
      },
      "source": [
        "name = input(\"Please enter your name\")\n",
        "print(\"Hello \" + name + \", welcome to Python Basics\")"
      ],
      "execution_count": 0,
      "outputs": [
        {
          "output_type": "stream",
          "text": [
            "Please enter your nameSonia\n",
            "Hello Sonia, welcome to Python Basics\n"
          ],
          "name": "stdout"
        }
      ]
    },
    {
      "cell_type": "markdown",
      "metadata": {
        "id": "jVujmpfCOdXk",
        "colab_type": "text"
      },
      "source": [
        "# Variables\n",
        "\n"
      ]
    },
    {
      "cell_type": "code",
      "metadata": {
        "id": "YfHtEdvHNs_E",
        "colab_type": "code",
        "colab": {}
      },
      "source": [
        "girl_variable = 'Girl'\n",
        "boy_variable = 'Boy'\n",
        "sonia_variable = 321\n",
        "list_variable = ['house','car','bills']\n",
        "psudo_variable = \"print this as is \\n ...the rest here\"\n",
        "positive_tuple = \"one\",\"two\",\"three\""
      ],
      "execution_count": 0,
      "outputs": []
    },
    {
      "cell_type": "code",
      "metadata": {
        "id": "Vey3mX8XSCly",
        "colab_type": "code",
        "outputId": "96305a4a-7e0c-4893-c6eb-9cc26f1a2ea8",
        "colab": {
          "base_uri": "https://localhost:8080/",
          "height": 34
        }
      },
      "source": [
        "list(positive_tuple)"
      ],
      "execution_count": 0,
      "outputs": [
        {
          "output_type": "execute_result",
          "data": {
            "text/plain": [
              "['one', 'two', 'three']"
            ]
          },
          "metadata": {
            "tags": []
          },
          "execution_count": 23
        }
      ]
    },
    {
      "cell_type": "code",
      "metadata": {
        "id": "oB__uBnVSlDr",
        "colab_type": "code",
        "colab": {}
      },
      "source": [
        "user_data = (\"Sonia\",\"Dhawan\",\"F\",\"Windows\")\n",
        "first_name, last_name, socially_constructed_gender, OS = user_data"
      ],
      "execution_count": 0,
      "outputs": []
    },
    {
      "cell_type": "code",
      "metadata": {
        "id": "gl2jEdyeVlB4",
        "colab_type": "code",
        "outputId": "abde578e-6c42-4aed-e6f1-ffde1cc7c019",
        "colab": {
          "base_uri": "https://localhost:8080/",
          "height": 34
        }
      },
      "source": [
        "user_data[1]"
      ],
      "execution_count": 3,
      "outputs": [
        {
          "output_type": "execute_result",
          "data": {
            "text/plain": [
              "'Dhawan'"
            ]
          },
          "metadata": {
            "tags": []
          },
          "execution_count": 3
        }
      ]
    },
    {
      "cell_type": "code",
      "metadata": {
        "id": "R3DsnjKvVq46",
        "colab_type": "code",
        "outputId": "711a76d0-9dc3-4012-e8b2-26aa4f970246",
        "colab": {
          "base_uri": "https://localhost:8080/",
          "height": 34
        }
      },
      "source": [
        "print(\"My name is {0} {1}. I am {2}emale and I use {3} OS.\".format(first_name,last_name,socially_constructed_gender,OS))"
      ],
      "execution_count": 4,
      "outputs": [
        {
          "output_type": "stream",
          "text": [
            "My name is Sonia Dhawan. I am Female and I use Windows OS.\n"
          ],
          "name": "stdout"
        }
      ]
    },
    {
      "cell_type": "code",
      "metadata": {
        "id": "x6zUE38QWbEi",
        "colab_type": "code",
        "outputId": "a2ae1478-4185-4d8a-a7ac-c0e564e43dca",
        "colab": {
          "base_uri": "https://localhost:8080/",
          "height": 120
        }
      },
      "source": [
        "print(\"Welcome to Astro World\")\n",
        "name = input(\"What is your name?: \")\n",
        "print(\"Welcome to Astro World \" + name + \"! We're glad to have you!\")\n",
        "print(\"Now first let's get somethings straight. Are you a boy, girl or non-binary?\")\n",
        "gender = input(\"What's your preferred gender?: \")\n",
        "print(\"That's awesome! We're glad to have a \" + gender + \" representative with us.\")\n"
      ],
      "execution_count": 5,
      "outputs": [
        {
          "output_type": "stream",
          "text": [
            "Welcome to Astro World\n",
            "What is your name?: Chris\n",
            "Welcome to Astro World Chris! We're glad to have you!\n",
            "Now first let's get somethings straight. Are you a boy, girl or non-binary?\n",
            "What's your preferred gender?: Buy\n",
            "That's awesome! We're glad to have a Buy representative with us.\n"
          ],
          "name": "stdout"
        }
      ]
    },
    {
      "cell_type": "code",
      "metadata": {
        "id": "EmHWy_r03n0B",
        "colab_type": "code",
        "colab": {}
      },
      "source": [
        "movies = {\n",
        "    \n",
        "    'name': \"City of god\",\n",
        "    'year':2002,\n",
        "    'genre':'Drama',\n",
        "    'language':'Portuguese',\n",
        "    'imdb':8.6,\n",
        "    'lead actor': 'Will Smith',\n",
        "    'lead actor2': 'Martin Lawrence'\n",
        "}"
      ],
      "execution_count": 0,
      "outputs": []
    },
    {
      "cell_type": "code",
      "metadata": {
        "id": "FF05Huav4au1",
        "colab_type": "code",
        "outputId": "347ce11e-83fa-4106-cf0c-c034aee95f96",
        "colab": {
          "base_uri": "https://localhost:8080/",
          "height": 137
        }
      },
      "source": [
        "movies"
      ],
      "execution_count": 7,
      "outputs": [
        {
          "output_type": "execute_result",
          "data": {
            "text/plain": [
              "{'genre': 'Drama',\n",
              " 'imdb': 8.6,\n",
              " 'language': 'Portuguese',\n",
              " 'lead actor': 'Will Smith',\n",
              " 'lead actor2': 'Martin Lawrence',\n",
              " 'name': 'City of god',\n",
              " 'year': 2002}"
            ]
          },
          "metadata": {
            "tags": []
          },
          "execution_count": 7
        }
      ]
    },
    {
      "cell_type": "code",
      "metadata": {
        "id": "F2TaTEGR56zH",
        "colab_type": "code",
        "outputId": "95d4df04-4e6d-474a-b5d2-c4a2c08d3650",
        "colab": {
          "base_uri": "https://localhost:8080/",
          "height": 34
        }
      },
      "source": [
        "print(movies)"
      ],
      "execution_count": 8,
      "outputs": [
        {
          "output_type": "stream",
          "text": [
            "{'name': 'City of god', 'year': 2002, 'genre': 'Drama', 'language': 'Portuguese', 'imdb': 8.6, 'lead actor': 'Will Smith', 'lead actor2': 'Martin Lawrence'}\n"
          ],
          "name": "stdout"
        }
      ]
    },
    {
      "cell_type": "code",
      "metadata": {
        "id": "VH4zdEYQ6lVE",
        "colab_type": "code",
        "outputId": "7b49ecaf-94e1-41df-8f41-9d65891ff6ff",
        "colab": {
          "base_uri": "https://localhost:8080/",
          "height": 34
        }
      },
      "source": [
        "del movies['year']\n",
        "print(movies)"
      ],
      "execution_count": 9,
      "outputs": [
        {
          "output_type": "stream",
          "text": [
            "{'name': 'City of god', 'genre': 'Drama', 'language': 'Portuguese', 'imdb': 8.6, 'lead actor': 'Will Smith', 'lead actor2': 'Martin Lawrence'}\n"
          ],
          "name": "stdout"
        }
      ]
    },
    {
      "cell_type": "code",
      "metadata": {
        "id": "6B6s-KOL6x5Z",
        "colab_type": "code",
        "outputId": "fc8b6431-5def-414a-aab0-700794f29d11",
        "colab": {
          "base_uri": "https://localhost:8080/",
          "height": 34
        }
      },
      "source": [
        "movies['year'] = 2020\n",
        "print(movies)"
      ],
      "execution_count": 10,
      "outputs": [
        {
          "output_type": "stream",
          "text": [
            "{'name': 'City of god', 'genre': 'Drama', 'language': 'Portuguese', 'imdb': 8.6, 'lead actor': 'Will Smith', 'lead actor2': 'Martin Lawrence', 'year': 2020}\n"
          ],
          "name": "stdout"
        }
      ]
    },
    {
      "cell_type": "code",
      "metadata": {
        "id": "X0zKKtBO7ITL",
        "colab_type": "code",
        "outputId": "2f8398f3-88df-41af-eef6-bd8af2c3f893",
        "colab": {
          "base_uri": "https://localhost:8080/",
          "height": 54
        }
      },
      "source": [
        "movies['snack'] = \"popcorn\"\n",
        "print(movies)"
      ],
      "execution_count": 11,
      "outputs": [
        {
          "output_type": "stream",
          "text": [
            "{'name': 'City of god', 'genre': 'Drama', 'language': 'Portuguese', 'imdb': 8.6, 'lead actor': 'Will Smith', 'lead actor2': 'Martin Lawrence', 'year': 2020, 'snack': 'popcorn'}\n"
          ],
          "name": "stdout"
        }
      ]
    },
    {
      "cell_type": "code",
      "metadata": {
        "id": "Fs3DWqCH7lXM",
        "colab_type": "code",
        "outputId": "a7bdd7de-4291-4e97-f5bd-e91b3c3c22d4",
        "colab": {
          "base_uri": "https://localhost:8080/",
          "height": 68
        }
      },
      "source": [
        "dog_types = {'pups': {\n",
        "    'small dogs': \"Rich\",\n",
        "    'medium dogs': \"Princess\",\n",
        "    'Large dogs': \"Phoenix\"\n",
        "}\n",
        "}\n",
        "dog_types"
      ],
      "execution_count": 15,
      "outputs": [
        {
          "output_type": "execute_result",
          "data": {
            "text/plain": [
              "{'pups': {'Large dogs': 'Phoenix',\n",
              "  'medium dogs': 'Princess',\n",
              "  'small dogs': 'Rich'}}"
            ]
          },
          "metadata": {
            "tags": []
          },
          "execution_count": 15
        }
      ]
    },
    {
      "cell_type": "code",
      "metadata": {
        "id": "vEaVOWts8WGR",
        "colab_type": "code",
        "colab": {
          "base_uri": "https://localhost:8080/",
          "height": 257
        },
        "outputId": "4bfcded8-7ad6-4bde-fa4d-b9e15480ecfc"
      },
      "source": [
        "movies.update(dog_types)\n",
        "movies"
      ],
      "execution_count": 17,
      "outputs": [
        {
          "output_type": "execute_result",
          "data": {
            "text/plain": [
              "{'Large dogs': 'Phoenix',\n",
              " 'genre': 'Drama',\n",
              " 'imdb': 8.6,\n",
              " 'language': 'Portuguese',\n",
              " 'lead actor': 'Will Smith',\n",
              " 'lead actor2': 'Martin Lawrence',\n",
              " 'medium dogs': 'Princess',\n",
              " 'name': 'City of god',\n",
              " 'pups': {'Large dogs': 'Phoenix',\n",
              "  'medium dogs': 'Princess',\n",
              "  'small dogs': 'Rich'},\n",
              " 'small dogs': 'Rich',\n",
              " 'snack': 'popcorn',\n",
              " 'year': 2020}"
            ]
          },
          "metadata": {
            "tags": []
          },
          "execution_count": 17
        }
      ]
    },
    {
      "cell_type": "code",
      "metadata": {
        "id": "Nooq44_zhz0Y",
        "colab_type": "code",
        "colab": {}
      },
      "source": [
        "new_actor = {'lead actor2':\"Jelon W\"}"
      ],
      "execution_count": 0,
      "outputs": []
    },
    {
      "cell_type": "code",
      "metadata": {
        "id": "vkBsJGtTimuK",
        "colab_type": "code",
        "colab": {
          "base_uri": "https://localhost:8080/",
          "height": 257
        },
        "outputId": "216d19be-dbd9-447c-b0e0-1b10136be691"
      },
      "source": [
        "movies.update(new_actor)\n",
        "movies"
      ],
      "execution_count": 20,
      "outputs": [
        {
          "output_type": "execute_result",
          "data": {
            "text/plain": [
              "{'Large dogs': 'Phoenix',\n",
              " 'genre': 'Drama',\n",
              " 'imdb': 8.6,\n",
              " 'language': 'Portuguese',\n",
              " 'lead actor': 'Will Smith',\n",
              " 'lead actor2': 'Jelon W',\n",
              " 'medium dogs': 'Princess',\n",
              " 'name': 'City of god',\n",
              " 'pups': {'Large dogs': 'Phoenix',\n",
              "  'medium dogs': 'Princess',\n",
              "  'small dogs': 'Rich'},\n",
              " 'small dogs': 'Rich',\n",
              " 'snack': 'popcorn',\n",
              " 'year': 2020}"
            ]
          },
          "metadata": {
            "tags": []
          },
          "execution_count": 20
        }
      ]
    },
    {
      "cell_type": "code",
      "metadata": {
        "id": "Iib30-dajBai",
        "colab_type": "code",
        "colab": {}
      },
      "source": [
        "movie_keys = movies.keys()"
      ],
      "execution_count": 0,
      "outputs": []
    },
    {
      "cell_type": "code",
      "metadata": {
        "id": "ctI2xInijE_k",
        "colab_type": "code",
        "colab": {
          "base_uri": "https://localhost:8080/",
          "height": 34
        },
        "outputId": "b39b00e1-4153-474a-d84e-184d2a85fdd6"
      },
      "source": [
        "movie_keys"
      ],
      "execution_count": 22,
      "outputs": [
        {
          "output_type": "execute_result",
          "data": {
            "text/plain": [
              "dict_keys(['name', 'genre', 'language', 'imdb', 'lead actor', 'lead actor2', 'year', 'snack', 'small dogs', 'medium dogs', 'Large dogs', 'pups'])"
            ]
          },
          "metadata": {
            "tags": []
          },
          "execution_count": 22
        }
      ]
    },
    {
      "cell_type": "code",
      "metadata": {
        "id": "MDScFzfRjG20",
        "colab_type": "code",
        "colab": {
          "base_uri": "https://localhost:8080/",
          "height": 54
        },
        "outputId": "481b6e82-9024-4a13-8384-5f63f6d54ed3"
      },
      "source": [
        "movies.values()"
      ],
      "execution_count": 24,
      "outputs": [
        {
          "output_type": "execute_result",
          "data": {
            "text/plain": [
              "dict_values(['City of god', 'Drama', 'Portuguese', 8.6, 'Will Smith', 'Jelon W', 2020, 'popcorn', 'Rich', 'Princess', 'Phoenix', {'small dogs': 'Rich', 'medium dogs': 'Princess', 'Large dogs': 'Phoenix'}])"
            ]
          },
          "metadata": {
            "tags": []
          },
          "execution_count": 24
        }
      ]
    },
    {
      "cell_type": "code",
      "metadata": {
        "id": "D8T-fayTk6cn",
        "colab_type": "code",
        "colab": {
          "base_uri": "https://localhost:8080/",
          "height": 164
        },
        "outputId": "2f49da02-67f6-43ea-9628-4ae55025abd8"
      },
      "source": [
        "movies_tuple = movies.tuple"
      ],
      "execution_count": 25,
      "outputs": [
        {
          "output_type": "error",
          "ename": "AttributeError",
          "evalue": "ignored",
          "traceback": [
            "\u001b[0;31m---------------------------------------------------------------------------\u001b[0m",
            "\u001b[0;31mAttributeError\u001b[0m                            Traceback (most recent call last)",
            "\u001b[0;32m<ipython-input-25-f723763e7908>\u001b[0m in \u001b[0;36m<module>\u001b[0;34m()\u001b[0m\n\u001b[0;32m----> 1\u001b[0;31m \u001b[0mmovies_tuple\u001b[0m \u001b[0;34m=\u001b[0m \u001b[0mmovies\u001b[0m\u001b[0;34m.\u001b[0m\u001b[0mtuple\u001b[0m\u001b[0;34m\u001b[0m\u001b[0;34m\u001b[0m\u001b[0m\n\u001b[0m",
            "\u001b[0;31mAttributeError\u001b[0m: 'dict' object has no attribute 'tuple'"
          ]
        }
      ]
    },
    {
      "cell_type": "code",
      "metadata": {
        "id": "XhfF6tIelKAR",
        "colab_type": "code",
        "colab": {}
      },
      "source": [
        ""
      ],
      "execution_count": 0,
      "outputs": []
    },
    {
      "cell_type": "code",
      "metadata": {
        "id": "pPQB0lyzk30i",
        "colab_type": "code",
        "colab": {}
      },
      "source": [
        ""
      ],
      "execution_count": 0,
      "outputs": []
    }
  ]
}