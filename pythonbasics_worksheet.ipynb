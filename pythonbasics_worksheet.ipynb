{
  "nbformat": 4,
  "nbformat_minor": 0,
  "metadata": {
    "colab": {
      "name": "Untitled1.ipynb",
      "provenance": [],
      "include_colab_link": true
    },
    "kernelspec": {
      "name": "python3",
      "display_name": "Python 3"
    }
  },
  "cells": [
    {
      "cell_type": "markdown",
      "metadata": {
        "id": "view-in-github",
        "colab_type": "text"
      },
      "source": [
        "<a href=\"https://colab.research.google.com/github/ItsTheGraveWalker/Growing-up-Python/blob/master/pythonbasics_worksheet.ipynb\" target=\"_parent\"><img src=\"https://colab.research.google.com/assets/colab-badge.svg\" alt=\"Open In Colab\"/></a>"
      ]
    },
    {
      "cell_type": "markdown",
      "metadata": {
        "id": "vnLLIpCkRlaE",
        "colab_type": "text"
      },
      "source": [
        "User Input"
      ]
    },
    {
      "cell_type": "code",
      "metadata": {
        "id": "ArtJssG4QqUi",
        "colab_type": "code",
        "outputId": "98483b10-85a4-4900-e1a5-1ff1cea70c73",
        "colab": {
          "base_uri": "https://localhost:8080/",
          "height": 68
        }
      },
      "source": [
        "name = input(\"What is your name \")\n",
        "print(\"Hello \" + name + \", new python student.\")\n",
        "\n",
        "character_name = \"Kyle\"\n",
        "\n",
        "print(\"Hello \" + character_name + \" , new student to python using variable.\")"
      ],
      "execution_count": 0,
      "outputs": [
        {
          "output_type": "stream",
          "text": [
            "What is your name Mike\n",
            "Hello Mike, new python student.\n",
            "Hello Kyle , new student to python using variable.\n"
          ],
          "name": "stdout"
        }
      ]
    },
    {
      "cell_type": "markdown",
      "metadata": {
        "id": "Jo9IzA1NR3ta",
        "colab_type": "text"
      },
      "source": [
        "Variables"
      ]
    },
    {
      "cell_type": "code",
      "metadata": {
        "id": "C6yMRgTfR7N1",
        "colab_type": "code",
        "colab": {}
      },
      "source": [
        "text_variable = \"String variable\"\n",
        "int_variable = 1234\n",
        "list_variable = [\"house\",\"car\",\"dog\"]"
      ],
      "execution_count": 0,
      "outputs": []
    },
    {
      "cell_type": "code",
      "metadata": {
        "id": "CdYTGB72UXij",
        "colab_type": "code",
        "outputId": "633efc80-24df-4edc-db2a-d949eef960bc",
        "colab": {
          "base_uri": "https://localhost:8080/",
          "height": 34
        }
      },
      "source": [
        "list_variable"
      ],
      "execution_count": 0,
      "outputs": [
        {
          "output_type": "execute_result",
          "data": {
            "text/plain": [
              "['house', 'car', 'dog']"
            ]
          },
          "metadata": {
            "tags": []
          },
          "execution_count": 9
        }
      ]
    },
    {
      "cell_type": "code",
      "metadata": {
        "id": "Cj7lyWG7UaiI",
        "colab_type": "code",
        "colab": {}
      },
      "source": [
        "secondlist_variable = [\"thing 1\",\"thing 2\",\"thing 3\"]"
      ],
      "execution_count": 0,
      "outputs": []
    },
    {
      "cell_type": "code",
      "metadata": {
        "id": "p5C5tsETU6y-",
        "colab_type": "code",
        "outputId": "45a4c232-34e5-4170-c61a-c4c005f1cb04",
        "colab": {
          "base_uri": "https://localhost:8080/",
          "height": 34
        }
      },
      "source": [
        "type(text_variable)"
      ],
      "execution_count": 0,
      "outputs": [
        {
          "output_type": "execute_result",
          "data": {
            "text/plain": [
              "str"
            ]
          },
          "metadata": {
            "tags": []
          },
          "execution_count": 18
        }
      ]
    },
    {
      "cell_type": "code",
      "metadata": {
        "id": "xmCvoRWMFatY",
        "colab_type": "code",
        "colab": {
          "base_uri": "https://localhost:8080/",
          "height": 255
        },
        "outputId": "f8176c18-2282-4b25-9c43-89c6fa1bad5c"
      },
      "source": [
        "def unscrew(spread):\n",
        "  print('Unscrewing {}.'.format(spread))\n",
        "\n",
        "def getplate():\n",
        "  print(\"Placing plate on table.\")\n",
        "\n",
        "def openBread():\n",
        "  print('Opening Bread')\n",
        "\n",
        "def getslice():\n",
        "  print('Heres a slice.')\n",
        "  return 'Slice'\n",
        "\n",
        "def getSpread(spread):\n",
        "  print('Yum {}'.format(spread))\n",
        "  return spread\n",
        "\n",
        "def spreading(slice,knife):\n",
        "  print(\"Putting {0} on the {1}.\".format(knife,slice))\n",
        "  return knife\n",
        "\n",
        "def combine(halves):\n",
        "  print('Putting {} half on {} half!'.format(halves[0],halves[1]))\n",
        "\n",
        "def placeOnPlate():\n",
        "  print(\"Putting it on the Plate\")\n",
        "\n",
        "def makePBAndJ(): # def is used to make a function\n",
        "\n",
        "    spreads = ['Peanut Butter','Jelly'] # Create a list of spreads\n",
        "\n",
        "    for spread in spreads: # Go through the list\n",
        "        unscrew(spread) # Call funtion unscrew on spread\n",
        "    \n",
        "    getplate() # Call get the plate\n",
        "\n",
        "    halves = [] # Create an empty list\n",
        "\n",
        "    openBread()\n",
        "\n",
        "    for spread in spreads: # Go through the spreads\n",
        "\n",
        "        slice = getslice() # Get a slice of bread\n",
        "\n",
        "        knife = getSpread(spread) # Get spread on knife\n",
        "\n",
        "        halves.append(spreading(slice,knife)) # add prepared half to our half list\n",
        "\n",
        "    combine(halves) # Combine the halves together\n",
        "    placeOnPlate()\n",
        "\n",
        "def sillyMan():\n",
        "\n",
        "  makePBAndJ()\n",
        "\n",
        "  print('\\n...Now how do I eat it?')\n",
        "\n",
        "sillyMan()"
      ],
      "execution_count": 7,
      "outputs": [
        {
          "output_type": "stream",
          "text": [
            "Unscrewing Peanut Butter.\n",
            "Unscrewing Jelly.\n",
            "Placing plate on table.\n",
            "Opening Bread\n",
            "Heres a slice.\n",
            "Yum Peanut Butter\n",
            "Putting Peanut Butter on the Slice.\n",
            "Heres a slice.\n",
            "Yum Jelly\n",
            "Putting Jelly on the Slice.\n",
            "Putting Peanut Butter half on Jelly half!\n",
            "Putting it on the Plate\n",
            "\n",
            "...Now how do I eat it?\n"
          ],
          "name": "stdout"
        }
      ]
    },
    {
      "cell_type": "markdown",
      "metadata": {
        "id": "ZPD4zdpUOq-m",
        "colab_type": "text"
      },
      "source": [
        "# User Input"
      ]
    },
    {
      "cell_type": "code",
      "metadata": {
        "id": "wD0fywvAGFvy",
        "colab_type": "code",
        "colab": {
          "base_uri": "https://localhost:8080/",
          "height": 51
        },
        "outputId": "201dae71-2bde-4598-bf19-05ae1aa3df2e"
      },
      "source": [
        "name = input(\"Please enter your name\")\n",
        "print(\"Hello \" + name + \", welcome to Python Basics\")"
      ],
      "execution_count": 9,
      "outputs": [
        {
          "output_type": "stream",
          "text": [
            "Please enter your nameSonia\n",
            "Hello Sonia, welcome to Python Basics\n"
          ],
          "name": "stdout"
        }
      ]
    },
    {
      "cell_type": "markdown",
      "metadata": {
        "id": "jVujmpfCOdXk",
        "colab_type": "text"
      },
      "source": [
        "# Variables\n",
        "\n"
      ]
    },
    {
      "cell_type": "code",
      "metadata": {
        "id": "YfHtEdvHNs_E",
        "colab_type": "code",
        "colab": {}
      },
      "source": [
        "girl_variable = 'Girl'\n",
        "boy_variable = 'Boy'\n",
        "sonia_variable = 321\n",
        "list_variable = ['house','car','bills']\n",
        "psudo_variable = \"print this as is \\n ...the rest here\"\n",
        "positive_tuple = \"one\",\"two\",\"three\""
      ],
      "execution_count": 0,
      "outputs": []
    },
    {
      "cell_type": "code",
      "metadata": {
        "id": "Vey3mX8XSCly",
        "colab_type": "code",
        "colab": {
          "base_uri": "https://localhost:8080/",
          "height": 34
        },
        "outputId": "96305a4a-7e0c-4893-c6eb-9cc26f1a2ea8"
      },
      "source": [
        "list(positive_tuple)"
      ],
      "execution_count": 23,
      "outputs": [
        {
          "output_type": "execute_result",
          "data": {
            "text/plain": [
              "['one', 'two', 'three']"
            ]
          },
          "metadata": {
            "tags": []
          },
          "execution_count": 23
        }
      ]
    },
    {
      "cell_type": "code",
      "metadata": {
        "id": "oB__uBnVSlDr",
        "colab_type": "code",
        "colab": {}
      },
      "source": [
        "user_data = (\"Sonia\",\"Dhawan\",\"F\",\"Windows\")\n",
        "first_name, last_name, socially_constructed_gender, OS = user_data"
      ],
      "execution_count": 0,
      "outputs": []
    },
    {
      "cell_type": "code",
      "metadata": {
        "id": "gl2jEdyeVlB4",
        "colab_type": "code",
        "colab": {
          "base_uri": "https://localhost:8080/",
          "height": 34
        },
        "outputId": "6f57d54c-446f-4a24-86f9-4a88029babb0"
      },
      "source": [
        "user_data[1]"
      ],
      "execution_count": 3,
      "outputs": [
        {
          "output_type": "execute_result",
          "data": {
            "text/plain": [
              "'Dhawan'"
            ]
          },
          "metadata": {
            "tags": []
          },
          "execution_count": 3
        }
      ]
    },
    {
      "cell_type": "code",
      "metadata": {
        "id": "R3DsnjKvVq46",
        "colab_type": "code",
        "colab": {
          "base_uri": "https://localhost:8080/",
          "height": 34
        },
        "outputId": "7233a500-e8f6-4efe-d430-304e680400dc"
      },
      "source": [
        "print(\"My name is {0} {1}. I am {2}emale and I use {3} OS.\".format(first_name,last_name,socially_constructed_gender,OS))"
      ],
      "execution_count": 4,
      "outputs": [
        {
          "output_type": "stream",
          "text": [
            "My name is Sonia Dhawan. I am Female and I use Windows OS.\n"
          ],
          "name": "stdout"
        }
      ]
    },
    {
      "cell_type": "code",
      "metadata": {
        "id": "x6zUE38QWbEi",
        "colab_type": "code",
        "colab": {
          "base_uri": "https://localhost:8080/",
          "height": 119
        },
        "outputId": "44965e10-97cf-48dd-c0e4-8fc484d81269"
      },
      "source": [
        "print(\"Welcome to Astro World\")\n",
        "name = input(\"What is your name?: \")\n",
        "print(\"Welcome to Astro World \" + name + \"! We're glad to have you!\")\n",
        "print(\"Now first let's get somethings straight. Are you a boy, girl or non-binary?\")\n",
        "gender = input(\"What's your preferred gender?: \")\n",
        "print(\"That's awesome! We're glad to have a \" + gender + \" representative with us.\")\n"
      ],
      "execution_count": 44,
      "outputs": [
        {
          "output_type": "stream",
          "text": [
            "Welcome to Astro World\n",
            "What is your name?: chris\n",
            "Welcome to Astro World chris! We're glad to have you!\n",
            "Now first let's get somethings straight. Are you a boy, girl or non-binary?\n",
            "What's your preferred gender?: boy\n",
            "That's awesome! We're glad to have a boy representative with us. Be sure we're an ally ;)\n"
          ],
          "name": "stdout"
        }
      ]
    },
    {
      "cell_type": "code",
      "metadata": {
        "id": "EmHWy_r03n0B",
        "colab_type": "code",
        "colab": {}
      },
      "source": [
        "movies = {\n",
        "    \n",
        "    'name': \"City of god\",\n",
        "    'year':2002,\n",
        "    'genre':'Drama',\n",
        "    'language':'Portuguese',\n",
        "    'imdb':8.6,\n",
        "    'lead actor': 'Will Smith',\n",
        "    'lead actor2': 'Martin Lawrence'\n",
        "}"
      ],
      "execution_count": 0,
      "outputs": []
    },
    {
      "cell_type": "code",
      "metadata": {
        "id": "FF05Huav4au1",
        "colab_type": "code",
        "colab": {
          "base_uri": "https://localhost:8080/",
          "height": 136
        },
        "outputId": "2d4fd47c-5389-4f37-84ba-7c44648f4615"
      },
      "source": [
        "movies"
      ],
      "execution_count": 48,
      "outputs": [
        {
          "output_type": "execute_result",
          "data": {
            "text/plain": [
              "{'genre': 'Drama',\n",
              " 'imdb': 8.6,\n",
              " 'language': 'Portuguese',\n",
              " 'lead actor': 'Will Smith',\n",
              " 'lead actor2': 'Martin Lawrence',\n",
              " 'name': 'City of god',\n",
              " 'year': 2002}"
            ]
          },
          "metadata": {
            "tags": []
          },
          "execution_count": 48
        }
      ]
    },
    {
      "cell_type": "code",
      "metadata": {
        "id": "F2TaTEGR56zH",
        "colab_type": "code",
        "colab": {
          "base_uri": "https://localhost:8080/",
          "height": 34
        },
        "outputId": "498f676e-ae86-4a47-9cfb-d6e24f3a8ca9"
      },
      "source": [
        "print(movies)"
      ],
      "execution_count": 49,
      "outputs": [
        {
          "output_type": "stream",
          "text": [
            "{'name': 'City of god', 'year': 2002, 'genre': 'Drama', 'language': 'Portuguese', 'imdb': 8.6, 'lead actor': 'Will Smith', 'lead actor2': 'Martin Lawrence'}\n"
          ],
          "name": "stdout"
        }
      ]
    },
    {
      "cell_type": "code",
      "metadata": {
        "id": "VH4zdEYQ6lVE",
        "colab_type": "code",
        "colab": {
          "base_uri": "https://localhost:8080/",
          "height": 34
        },
        "outputId": "37860729-faff-44d5-a387-84111e4cbece"
      },
      "source": [
        "del movies['year']\n",
        "print(movies)"
      ],
      "execution_count": 50,
      "outputs": [
        {
          "output_type": "stream",
          "text": [
            "{'name': 'City of god', 'genre': 'Drama', 'language': 'Portuguese', 'imdb': 8.6, 'lead actor': 'Will Smith', 'lead actor2': 'Martin Lawrence'}\n"
          ],
          "name": "stdout"
        }
      ]
    },
    {
      "cell_type": "code",
      "metadata": {
        "id": "6B6s-KOL6x5Z",
        "colab_type": "code",
        "colab": {
          "base_uri": "https://localhost:8080/",
          "height": 34
        },
        "outputId": "ab1368f8-d962-4cf7-9fa8-bda3229f96ac"
      },
      "source": [
        "movies['year'] = 2020\n",
        "print(movies)"
      ],
      "execution_count": 54,
      "outputs": [
        {
          "output_type": "stream",
          "text": [
            "{'name': 'City of god', 'genre': 'Drama', 'language': 'Portuguese', 'imdb': 8.6, 'lead actor': 'Will Smith', 'lead actor2': 'Martin Lawrence', 'year': 2020}\n"
          ],
          "name": "stdout"
        }
      ]
    },
    {
      "cell_type": "code",
      "metadata": {
        "id": "X0zKKtBO7ITL",
        "colab_type": "code",
        "colab": {
          "base_uri": "https://localhost:8080/",
          "height": 54
        },
        "outputId": "13a473a2-f353-4782-d6f1-60549e241be4"
      },
      "source": [
        "movies['snack'] = \"popcorn\"\n",
        "print(movies)"
      ],
      "execution_count": 55,
      "outputs": [
        {
          "output_type": "stream",
          "text": [
            "{'name': 'City of god', 'genre': 'Drama', 'language': 'Portuguese', 'imdb': 8.6, 'lead actor': 'Will Smith', 'lead actor2': 'Martin Lawrence', 'year': 2020, 'snack': 'popcorn'}\n"
          ],
          "name": "stdout"
        }
      ]
    },
    {
      "cell_type": "code",
      "metadata": {
        "id": "Fs3DWqCH7lXM",
        "colab_type": "code",
        "colab": {
          "base_uri": "https://localhost:8080/",
          "height": 34
        },
        "outputId": "67c6a661-2aa1-49e4-cd7f-c2de8b2aefa5"
      },
      "source": [
        "dog_types = {\n",
        "    'small dogs': \"Rich\",\n",
        "    'medium dogs': \"Princess\",\n",
        "    'Large dogs': \"Phoenix\"\n",
        "}\n",
        "dog_types"
      ],
      "execution_count": 57,
      "outputs": [
        {
          "output_type": "execute_result",
          "data": {
            "text/plain": [
              "{'Large dogs': 'Phoenix', 'medium dogs': 'Princess', 'small dogs': 'Rich'}"
            ]
          },
          "metadata": {
            "tags": []
          },
          "execution_count": 57
        }
      ]
    },
    {
      "cell_type": "code",
      "metadata": {
        "id": "vEaVOWts8WGR",
        "colab_type": "code",
        "colab": {}
      },
      "source": [
        "movies.update(dog_types)"
      ],
      "execution_count": 0,
      "outputs": []
    },
    {
      "cell_type": "code",
      "metadata": {
        "id": "BMdxbBS48fxm",
        "colab_type": "code",
        "colab": {
          "base_uri": "https://localhost:8080/",
          "height": 204
        },
        "outputId": "02fff579-d7a0-4df1-e1ea-d8af429c4370"
      },
      "source": [
        "movies"
      ],
      "execution_count": 60,
      "outputs": [
        {
          "output_type": "execute_result",
          "data": {
            "text/plain": [
              "{'Large dogs': 'Phoenix',\n",
              " 'genre': 'Drama',\n",
              " 'imdb': 8.6,\n",
              " 'language': 'Portuguese',\n",
              " 'lead actor': 'Will Smith',\n",
              " 'lead actor2': 'Martin Lawrence',\n",
              " 'medium dogs': 'Princess',\n",
              " 'name': 'City of god',\n",
              " 'small dogs': 'Rich',\n",
              " 'snack': 'popcorn',\n",
              " 'year': 2020}"
            ]
          },
          "metadata": {
            "tags": []
          },
          "execution_count": 60
        }
      ]
    }
  ]
}