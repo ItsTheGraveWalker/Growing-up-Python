{
  "nbformat": 4,
  "nbformat_minor": 0,
  "metadata": {
    "colab": {
      "name": "Untitled1.ipynb",
      "provenance": [],
      "authorship_tag": "ABX9TyPMXjNMJpDMyR1Yxz2U6Rm3",
      "include_colab_link": true
    },
    "kernelspec": {
      "name": "python3",
      "display_name": "Python 3"
    }
  },
  "cells": [
    {
      "cell_type": "markdown",
      "metadata": {
        "id": "view-in-github",
        "colab_type": "text"
      },
      "source": [
        "<a href=\"https://colab.research.google.com/github/ItsTheGraveWalker/jelonx/blob/master/Untitled1.ipynb\" target=\"_parent\"><img src=\"https://colab.research.google.com/assets/colab-badge.svg\" alt=\"Open In Colab\"/></a>"
      ]
    },
    {
      "cell_type": "markdown",
      "metadata": {
        "id": "vnLLIpCkRlaE",
        "colab_type": "text"
      },
      "source": [
        "User Input"
      ]
    },
    {
      "cell_type": "code",
      "metadata": {
        "id": "ArtJssG4QqUi",
        "colab_type": "code",
        "outputId": "98483b10-85a4-4900-e1a5-1ff1cea70c73",
        "colab": {
          "base_uri": "https://localhost:8080/",
          "height": 68
        }
      },
      "source": [
        "name = input(\"What is your name \")\n",
        "print(\"Hello \" + name + \", new python student.\")\n",
        "\n",
        "character_name = \"Kyle\"\n",
        "\n",
        "print(\"Hello \" + character_name + \" , new student to python using variable.\")"
      ],
      "execution_count": 0,
      "outputs": [
        {
          "output_type": "stream",
          "text": [
            "What is your name Mike\n",
            "Hello Mike, new python student.\n",
            "Hello Kyle , new student to python using variable.\n"
          ],
          "name": "stdout"
        }
      ]
    },
    {
      "cell_type": "markdown",
      "metadata": {
        "id": "Jo9IzA1NR3ta",
        "colab_type": "text"
      },
      "source": [
        "Variables"
      ]
    },
    {
      "cell_type": "code",
      "metadata": {
        "id": "C6yMRgTfR7N1",
        "colab_type": "code",
        "colab": {}
      },
      "source": [
        "text_variable = \"String variable\"\n",
        "int_variable = 1234\n",
        "list_variable = [\"house\",\"car\",\"dog\"]"
      ],
      "execution_count": 0,
      "outputs": []
    },
    {
      "cell_type": "code",
      "metadata": {
        "id": "CdYTGB72UXij",
        "colab_type": "code",
        "outputId": "633efc80-24df-4edc-db2a-d949eef960bc",
        "colab": {
          "base_uri": "https://localhost:8080/",
          "height": 34
        }
      },
      "source": [
        "list_variable"
      ],
      "execution_count": 0,
      "outputs": [
        {
          "output_type": "execute_result",
          "data": {
            "text/plain": [
              "['house', 'car', 'dog']"
            ]
          },
          "metadata": {
            "tags": []
          },
          "execution_count": 9
        }
      ]
    },
    {
      "cell_type": "code",
      "metadata": {
        "id": "Cj7lyWG7UaiI",
        "colab_type": "code",
        "colab": {}
      },
      "source": [
        "secondlist_variable = [\"thing 1\",\"thing 2\",\"thing 3\"]"
      ],
      "execution_count": 0,
      "outputs": []
    },
    {
      "cell_type": "code",
      "metadata": {
        "id": "p5C5tsETU6y-",
        "colab_type": "code",
        "outputId": "45a4c232-34e5-4170-c61a-c4c005f1cb04",
        "colab": {
          "base_uri": "https://localhost:8080/",
          "height": 34
        }
      },
      "source": [
        "type(text_variable)"
      ],
      "execution_count": 0,
      "outputs": [
        {
          "output_type": "execute_result",
          "data": {
            "text/plain": [
              "str"
            ]
          },
          "metadata": {
            "tags": []
          },
          "execution_count": 18
        }
      ]
    }
  ]
}